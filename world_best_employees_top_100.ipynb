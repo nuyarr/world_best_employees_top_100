{
 "cells": [
  {
   "cell_type": "code",
   "execution_count": 1,
   "id": "3b5256c8",
   "metadata": {},
   "outputs": [],
   "source": [
    "import pandas as pd\n",
    "import numpy as np\n",
    "import seaborn as sns\n",
    "import matplotlib.pyplot as plt"
   ]
  },
  {
   "cell_type": "code",
   "execution_count": 4,
   "id": "41c55742",
   "metadata": {
    "scrolled": true
   },
   "outputs": [],
   "source": [
    "df = pd.read_csv('C:/Users/Lenovo/Downloads/worlds_best_employers.csv')"
   ]
  },
  {
   "cell_type": "code",
   "execution_count": 5,
   "id": "13f6b3ab",
   "metadata": {},
   "outputs": [
    {
     "data": {
      "text/plain": [
       "(100, 5)"
      ]
     },
     "execution_count": 5,
     "metadata": {},
     "output_type": "execute_result"
    }
   ],
   "source": [
    "df.shape"
   ]
  },
  {
   "cell_type": "code",
   "execution_count": 6,
   "id": "503a8950",
   "metadata": {},
   "outputs": [
    {
     "data": {
      "text/plain": [
       "Index(['RANK', 'NAME', 'INDUSTRIES', 'COUNTRY/TERRITORY', 'EMPLOYEES'], dtype='object')"
      ]
     },
     "execution_count": 6,
     "metadata": {},
     "output_type": "execute_result"
    }
   ],
   "source": [
    "df.columns"
   ]
  },
  {
   "cell_type": "code",
   "execution_count": 7,
   "id": "bc460286",
   "metadata": {},
   "outputs": [
    {
     "data": {
      "text/plain": [
       "<bound method DataFrame.info of      RANK                   NAME  \\\n",
       "0     1.0    Samsung Electronics   \n",
       "1     2.0              Microsoft   \n",
       "2     3.0                    IBM   \n",
       "3     4.0               Alphabet   \n",
       "4     5.0                  Apple   \n",
       "..    ...                    ...   \n",
       "95   96.0             Mastercard   \n",
       "96   97.0  Electricite de France   \n",
       "97   98.0                Verbund   \n",
       "98   99.0              Panasonic   \n",
       "99  100.0               Emirates   \n",
       "\n",
       "                                           INDUSTRIES     COUNTRY/TERRITORY  \\\n",
       "0   Semiconductors, Electronics, Electrical Engine...            South Kore   \n",
       "1                   IT, Internet, Software & Services         United States   \n",
       "2   Semiconductors, Electronics, Electrical Engine...         United States   \n",
       "3                   IT, Internet, Software & Services         United States   \n",
       "4   Semiconductors, Electronics, Electrical Engine...         United States   \n",
       "..                                                ...                   ...   \n",
       "95                     Banking and Financial Services         United States   \n",
       "96                                          Utilities                France   \n",
       "97                                          Utilities               Austria   \n",
       "98                         Engineering, Manufacturing                 Japan   \n",
       "99                       Transportation and Logistics  United Arab Emirates   \n",
       "\n",
       "   EMPLOYEES  \n",
       "0    266,673  \n",
       "1    221,000  \n",
       "2    250,000  \n",
       "3    156,500  \n",
       "4    154,000  \n",
       "..       ...  \n",
       "95    24,000  \n",
       "96   167,157  \n",
       "97     3,184  \n",
       "98   240,198  \n",
       "99    85,219  \n",
       "\n",
       "[100 rows x 5 columns]>"
      ]
     },
     "execution_count": 7,
     "metadata": {},
     "output_type": "execute_result"
    }
   ],
   "source": [
    "df.info"
   ]
  },
  {
   "cell_type": "code",
   "execution_count": 9,
   "id": "b1ced188",
   "metadata": {},
   "outputs": [
    {
     "data": {
      "text/html": [
       "<div>\n",
       "<style scoped>\n",
       "    .dataframe tbody tr th:only-of-type {\n",
       "        vertical-align: middle;\n",
       "    }\n",
       "\n",
       "    .dataframe tbody tr th {\n",
       "        vertical-align: top;\n",
       "    }\n",
       "\n",
       "    .dataframe thead th {\n",
       "        text-align: right;\n",
       "    }\n",
       "</style>\n",
       "<table border=\"1\" class=\"dataframe\">\n",
       "  <thead>\n",
       "    <tr style=\"text-align: right;\">\n",
       "      <th></th>\n",
       "      <th>RANK</th>\n",
       "    </tr>\n",
       "  </thead>\n",
       "  <tbody>\n",
       "    <tr>\n",
       "      <th>count</th>\n",
       "      <td>100.000000</td>\n",
       "    </tr>\n",
       "    <tr>\n",
       "      <th>mean</th>\n",
       "      <td>50.500000</td>\n",
       "    </tr>\n",
       "    <tr>\n",
       "      <th>std</th>\n",
       "      <td>29.011492</td>\n",
       "    </tr>\n",
       "    <tr>\n",
       "      <th>min</th>\n",
       "      <td>1.000000</td>\n",
       "    </tr>\n",
       "    <tr>\n",
       "      <th>25%</th>\n",
       "      <td>25.750000</td>\n",
       "    </tr>\n",
       "    <tr>\n",
       "      <th>50%</th>\n",
       "      <td>50.500000</td>\n",
       "    </tr>\n",
       "    <tr>\n",
       "      <th>75%</th>\n",
       "      <td>75.250000</td>\n",
       "    </tr>\n",
       "    <tr>\n",
       "      <th>max</th>\n",
       "      <td>100.000000</td>\n",
       "    </tr>\n",
       "  </tbody>\n",
       "</table>\n",
       "</div>"
      ],
      "text/plain": [
       "             RANK\n",
       "count  100.000000\n",
       "mean    50.500000\n",
       "std     29.011492\n",
       "min      1.000000\n",
       "25%     25.750000\n",
       "50%     50.500000\n",
       "75%     75.250000\n",
       "max    100.000000"
      ]
     },
     "execution_count": 9,
     "metadata": {},
     "output_type": "execute_result"
    }
   ],
   "source": [
    "df.describe()"
   ]
  },
  {
   "cell_type": "code",
   "execution_count": 11,
   "id": "2c61315a",
   "metadata": {},
   "outputs": [
    {
     "data": {
      "text/html": [
       "<div>\n",
       "<style scoped>\n",
       "    .dataframe tbody tr th:only-of-type {\n",
       "        vertical-align: middle;\n",
       "    }\n",
       "\n",
       "    .dataframe tbody tr th {\n",
       "        vertical-align: top;\n",
       "    }\n",
       "\n",
       "    .dataframe thead th {\n",
       "        text-align: right;\n",
       "    }\n",
       "</style>\n",
       "<table border=\"1\" class=\"dataframe\">\n",
       "  <thead>\n",
       "    <tr style=\"text-align: right;\">\n",
       "      <th></th>\n",
       "      <th>RANK</th>\n",
       "      <th>NAME</th>\n",
       "      <th>INDUSTRIES</th>\n",
       "      <th>COUNTRY/TERRITORY</th>\n",
       "      <th>EMPLOYEES</th>\n",
       "    </tr>\n",
       "  </thead>\n",
       "  <tbody>\n",
       "    <tr>\n",
       "      <th>0</th>\n",
       "      <td>1.0</td>\n",
       "      <td>Samsung Electronics</td>\n",
       "      <td>Semiconductors, Electronics, Electrical Engine...</td>\n",
       "      <td>South Kore</td>\n",
       "      <td>266,673</td>\n",
       "    </tr>\n",
       "    <tr>\n",
       "      <th>1</th>\n",
       "      <td>2.0</td>\n",
       "      <td>Microsoft</td>\n",
       "      <td>IT, Internet, Software &amp; Services</td>\n",
       "      <td>United States</td>\n",
       "      <td>221,000</td>\n",
       "    </tr>\n",
       "    <tr>\n",
       "      <th>2</th>\n",
       "      <td>3.0</td>\n",
       "      <td>IBM</td>\n",
       "      <td>Semiconductors, Electronics, Electrical Engine...</td>\n",
       "      <td>United States</td>\n",
       "      <td>250,000</td>\n",
       "    </tr>\n",
       "    <tr>\n",
       "      <th>3</th>\n",
       "      <td>4.0</td>\n",
       "      <td>Alphabet</td>\n",
       "      <td>IT, Internet, Software &amp; Services</td>\n",
       "      <td>United States</td>\n",
       "      <td>156,500</td>\n",
       "    </tr>\n",
       "    <tr>\n",
       "      <th>4</th>\n",
       "      <td>5.0</td>\n",
       "      <td>Apple</td>\n",
       "      <td>Semiconductors, Electronics, Electrical Engine...</td>\n",
       "      <td>United States</td>\n",
       "      <td>154,000</td>\n",
       "    </tr>\n",
       "  </tbody>\n",
       "</table>\n",
       "</div>"
      ],
      "text/plain": [
       "   RANK                 NAME  \\\n",
       "0   1.0  Samsung Electronics   \n",
       "1   2.0            Microsoft   \n",
       "2   3.0                  IBM   \n",
       "3   4.0             Alphabet   \n",
       "4   5.0                Apple   \n",
       "\n",
       "                                          INDUSTRIES COUNTRY/TERRITORY  \\\n",
       "0  Semiconductors, Electronics, Electrical Engine...        South Kore   \n",
       "1                  IT, Internet, Software & Services     United States   \n",
       "2  Semiconductors, Electronics, Electrical Engine...     United States   \n",
       "3                  IT, Internet, Software & Services     United States   \n",
       "4  Semiconductors, Electronics, Electrical Engine...     United States   \n",
       "\n",
       "  EMPLOYEES  \n",
       "0   266,673  \n",
       "1   221,000  \n",
       "2   250,000  \n",
       "3   156,500  \n",
       "4   154,000  "
      ]
     },
     "execution_count": 11,
     "metadata": {},
     "output_type": "execute_result"
    }
   ],
   "source": [
    "df.head()"
   ]
  },
  {
   "cell_type": "code",
   "execution_count": 12,
   "id": "f9233ad3",
   "metadata": {},
   "outputs": [],
   "source": [
    "df.rename(columns = {'COUNTRY/TERRITORY' : 'COUNTRY'}, inplace = True)\n",
    "# changing column name for easy typing"
   ]
  },
  {
   "cell_type": "code",
   "execution_count": 13,
   "id": "fd411417",
   "metadata": {},
   "outputs": [
    {
     "data": {
      "text/html": [
       "<div>\n",
       "<style scoped>\n",
       "    .dataframe tbody tr th:only-of-type {\n",
       "        vertical-align: middle;\n",
       "    }\n",
       "\n",
       "    .dataframe tbody tr th {\n",
       "        vertical-align: top;\n",
       "    }\n",
       "\n",
       "    .dataframe thead th {\n",
       "        text-align: right;\n",
       "    }\n",
       "</style>\n",
       "<table border=\"1\" class=\"dataframe\">\n",
       "  <thead>\n",
       "    <tr style=\"text-align: right;\">\n",
       "      <th></th>\n",
       "      <th>RANK</th>\n",
       "      <th>NAME</th>\n",
       "      <th>INDUSTRIES</th>\n",
       "      <th>COUNTRY</th>\n",
       "      <th>EMPLOYEES</th>\n",
       "    </tr>\n",
       "  </thead>\n",
       "  <tbody>\n",
       "    <tr>\n",
       "      <th>0</th>\n",
       "      <td>1.0</td>\n",
       "      <td>Samsung Electronics</td>\n",
       "      <td>Semiconductors, Electronics, Electrical Engine...</td>\n",
       "      <td>South Kore</td>\n",
       "      <td>266,673</td>\n",
       "    </tr>\n",
       "    <tr>\n",
       "      <th>1</th>\n",
       "      <td>2.0</td>\n",
       "      <td>Microsoft</td>\n",
       "      <td>IT, Internet, Software &amp; Services</td>\n",
       "      <td>United States</td>\n",
       "      <td>221,000</td>\n",
       "    </tr>\n",
       "    <tr>\n",
       "      <th>2</th>\n",
       "      <td>3.0</td>\n",
       "      <td>IBM</td>\n",
       "      <td>Semiconductors, Electronics, Electrical Engine...</td>\n",
       "      <td>United States</td>\n",
       "      <td>250,000</td>\n",
       "    </tr>\n",
       "    <tr>\n",
       "      <th>3</th>\n",
       "      <td>4.0</td>\n",
       "      <td>Alphabet</td>\n",
       "      <td>IT, Internet, Software &amp; Services</td>\n",
       "      <td>United States</td>\n",
       "      <td>156,500</td>\n",
       "    </tr>\n",
       "    <tr>\n",
       "      <th>4</th>\n",
       "      <td>5.0</td>\n",
       "      <td>Apple</td>\n",
       "      <td>Semiconductors, Electronics, Electrical Engine...</td>\n",
       "      <td>United States</td>\n",
       "      <td>154,000</td>\n",
       "    </tr>\n",
       "    <tr>\n",
       "      <th>...</th>\n",
       "      <td>...</td>\n",
       "      <td>...</td>\n",
       "      <td>...</td>\n",
       "      <td>...</td>\n",
       "      <td>...</td>\n",
       "    </tr>\n",
       "    <tr>\n",
       "      <th>95</th>\n",
       "      <td>96.0</td>\n",
       "      <td>Mastercard</td>\n",
       "      <td>Banking and Financial Services</td>\n",
       "      <td>United States</td>\n",
       "      <td>24,000</td>\n",
       "    </tr>\n",
       "    <tr>\n",
       "      <th>96</th>\n",
       "      <td>97.0</td>\n",
       "      <td>Electricite de France</td>\n",
       "      <td>Utilities</td>\n",
       "      <td>France</td>\n",
       "      <td>167,157</td>\n",
       "    </tr>\n",
       "    <tr>\n",
       "      <th>97</th>\n",
       "      <td>98.0</td>\n",
       "      <td>Verbund</td>\n",
       "      <td>Utilities</td>\n",
       "      <td>Austria</td>\n",
       "      <td>3,184</td>\n",
       "    </tr>\n",
       "    <tr>\n",
       "      <th>98</th>\n",
       "      <td>99.0</td>\n",
       "      <td>Panasonic</td>\n",
       "      <td>Engineering, Manufacturing</td>\n",
       "      <td>Japan</td>\n",
       "      <td>240,198</td>\n",
       "    </tr>\n",
       "    <tr>\n",
       "      <th>99</th>\n",
       "      <td>100.0</td>\n",
       "      <td>Emirates</td>\n",
       "      <td>Transportation and Logistics</td>\n",
       "      <td>United Arab Emirates</td>\n",
       "      <td>85,219</td>\n",
       "    </tr>\n",
       "  </tbody>\n",
       "</table>\n",
       "<p>100 rows × 5 columns</p>\n",
       "</div>"
      ],
      "text/plain": [
       "     RANK                   NAME  \\\n",
       "0     1.0    Samsung Electronics   \n",
       "1     2.0              Microsoft   \n",
       "2     3.0                    IBM   \n",
       "3     4.0               Alphabet   \n",
       "4     5.0                  Apple   \n",
       "..    ...                    ...   \n",
       "95   96.0             Mastercard   \n",
       "96   97.0  Electricite de France   \n",
       "97   98.0                Verbund   \n",
       "98   99.0              Panasonic   \n",
       "99  100.0               Emirates   \n",
       "\n",
       "                                           INDUSTRIES               COUNTRY  \\\n",
       "0   Semiconductors, Electronics, Electrical Engine...            South Kore   \n",
       "1                   IT, Internet, Software & Services         United States   \n",
       "2   Semiconductors, Electronics, Electrical Engine...         United States   \n",
       "3                   IT, Internet, Software & Services         United States   \n",
       "4   Semiconductors, Electronics, Electrical Engine...         United States   \n",
       "..                                                ...                   ...   \n",
       "95                     Banking and Financial Services         United States   \n",
       "96                                          Utilities                France   \n",
       "97                                          Utilities               Austria   \n",
       "98                         Engineering, Manufacturing                 Japan   \n",
       "99                       Transportation and Logistics  United Arab Emirates   \n",
       "\n",
       "   EMPLOYEES  \n",
       "0    266,673  \n",
       "1    221,000  \n",
       "2    250,000  \n",
       "3    156,500  \n",
       "4    154,000  \n",
       "..       ...  \n",
       "95    24,000  \n",
       "96   167,157  \n",
       "97     3,184  \n",
       "98   240,198  \n",
       "99    85,219  \n",
       "\n",
       "[100 rows x 5 columns]"
      ]
     },
     "execution_count": 13,
     "metadata": {},
     "output_type": "execute_result"
    }
   ],
   "source": [
    "df"
   ]
  },
  {
   "cell_type": "code",
   "execution_count": 14,
   "id": "25aa733b",
   "metadata": {},
   "outputs": [],
   "source": [
    "df['EMPLOYEES'] = df['EMPLOYEES'].astype(object)\n",
    "df['EMPLOYEES'] = df['EMPLOYEES'].str.replace(',','')\n",
    "df['EMPLOYEES'] = df['EMPLOYEES'].astype(int)\n",
    "#removing ',' from EMPLOYEES columns"
   ]
  },
  {
   "cell_type": "code",
   "execution_count": 15,
   "id": "7b58c658",
   "metadata": {},
   "outputs": [
    {
     "data": {
      "text/html": [
       "<div>\n",
       "<style scoped>\n",
       "    .dataframe tbody tr th:only-of-type {\n",
       "        vertical-align: middle;\n",
       "    }\n",
       "\n",
       "    .dataframe tbody tr th {\n",
       "        vertical-align: top;\n",
       "    }\n",
       "\n",
       "    .dataframe thead th {\n",
       "        text-align: right;\n",
       "    }\n",
       "</style>\n",
       "<table border=\"1\" class=\"dataframe\">\n",
       "  <thead>\n",
       "    <tr style=\"text-align: right;\">\n",
       "      <th></th>\n",
       "      <th>RANK</th>\n",
       "      <th>NAME</th>\n",
       "      <th>INDUSTRIES</th>\n",
       "      <th>COUNTRY</th>\n",
       "      <th>EMPLOYEES</th>\n",
       "    </tr>\n",
       "  </thead>\n",
       "  <tbody>\n",
       "    <tr>\n",
       "      <th>0</th>\n",
       "      <td>1.0</td>\n",
       "      <td>Samsung Electronics</td>\n",
       "      <td>Semiconductors, Electronics, Electrical Engine...</td>\n",
       "      <td>South Kore</td>\n",
       "      <td>266673</td>\n",
       "    </tr>\n",
       "    <tr>\n",
       "      <th>1</th>\n",
       "      <td>2.0</td>\n",
       "      <td>Microsoft</td>\n",
       "      <td>IT, Internet, Software &amp; Services</td>\n",
       "      <td>United States</td>\n",
       "      <td>221000</td>\n",
       "    </tr>\n",
       "    <tr>\n",
       "      <th>2</th>\n",
       "      <td>3.0</td>\n",
       "      <td>IBM</td>\n",
       "      <td>Semiconductors, Electronics, Electrical Engine...</td>\n",
       "      <td>United States</td>\n",
       "      <td>250000</td>\n",
       "    </tr>\n",
       "    <tr>\n",
       "      <th>3</th>\n",
       "      <td>4.0</td>\n",
       "      <td>Alphabet</td>\n",
       "      <td>IT, Internet, Software &amp; Services</td>\n",
       "      <td>United States</td>\n",
       "      <td>156500</td>\n",
       "    </tr>\n",
       "  </tbody>\n",
       "</table>\n",
       "</div>"
      ],
      "text/plain": [
       "   RANK                 NAME  \\\n",
       "0   1.0  Samsung Electronics   \n",
       "1   2.0            Microsoft   \n",
       "2   3.0                  IBM   \n",
       "3   4.0             Alphabet   \n",
       "\n",
       "                                          INDUSTRIES        COUNTRY  EMPLOYEES  \n",
       "0  Semiconductors, Electronics, Electrical Engine...     South Kore     266673  \n",
       "1                  IT, Internet, Software & Services  United States     221000  \n",
       "2  Semiconductors, Electronics, Electrical Engine...  United States     250000  \n",
       "3                  IT, Internet, Software & Services  United States     156500  "
      ]
     },
     "execution_count": 15,
     "metadata": {},
     "output_type": "execute_result"
    }
   ],
   "source": [
    "df.head(4)"
   ]
  },
  {
   "cell_type": "code",
   "execution_count": 16,
   "id": "b1f7b360",
   "metadata": {},
   "outputs": [
    {
     "data": {
      "text/plain": [
       "array(['Samsung Electronics', 'Microsoft', 'IBM', 'Alphabet', 'Apple',\n",
       "       'Delta Air Lines', 'Costco Wholesale', 'Adobe',\n",
       "       'Southwest Airlines', 'Dell Technologies', 'Lockheed Martin',\n",
       "       'Cisco Systems', 'BMW Group', 'Amazon', 'Decathlon', 'Adidas',\n",
       "       'AIRBUS', 'Ferrari', 'Fraunhofer Society', 'Reliance Industries',\n",
       "       'Rolex', 'Dassault Group', 'Huawei', 'Bosch',\n",
       "       'Mercedes-Benz Group', 'Rossmann', 'Intuit', 'Safran', 'Pfizer',\n",
       "       'JD.com', 'IKEA', 'Coca-Cola', 'Armani Group', 'Honda Motor', '3M',\n",
       "       'Yamaha', 'Nike', 'Siemens', 'Puma', 'UKG', 'Dr. Oetker',\n",
       "       'Marriott International', 'Northrop Grumman', 'Volkswagen Group',\n",
       "       'PayPal', 'Saudi Arabian Oil Company (Saudi Aramco)',\n",
       "       'Tencent Holdings', 'Sanofi', 'Rolls-Royce Holdings',\n",
       "       'Johnson & Johnson', 'Target', 'The Home Depot', 'Hyatt Hotels',\n",
       "       'Boeing', 'Ford Motor', 'Shopify', 'Colgate-Palmolive',\n",
       "       'General Dynamics', 'Philips', 'MTU Aero Engines', 'Chanel',\n",
       "       'Raymond James Financial', \"L'Oréal\", 'Capital One',\n",
       "       'TD Bank Group', 'Oracle', 'Netflix', 'Carl-Zeiss-Stiftung',\n",
       "       'Merck KGaA, Darmstadt, Germany and its affiliates',\n",
       "       'Wacker Chemie', 'ENBW', 'Prada', 'General Motors', 'T Rowe Price',\n",
       "       'Volvo Group', 'Alibaba Group', 'Intel', 'Viatris', 'DM',\n",
       "       'Mitsubishi Electric', 'Pirelli', 'Enel', 'Kempinski Hotels',\n",
       "       'Naval Group', 'Naver', 'Meritz Financial Group',\n",
       "       'Discover Financial Services', 'Sony', 'STIHL', 'Michelin Group',\n",
       "       'Novartis', 'The Hartford', 'SK Group', \"De'Longhi\", 'DBS Bank',\n",
       "       'Mastercard', 'Electricite de France', 'Verbund', 'Panasonic',\n",
       "       'Emirates'], dtype=object)"
      ]
     },
     "execution_count": 16,
     "metadata": {},
     "output_type": "execute_result"
    }
   ],
   "source": [
    "df['NAME'].unique()"
   ]
  },
  {
   "cell_type": "code",
   "execution_count": 17,
   "id": "98b0d2ef",
   "metadata": {},
   "outputs": [
    {
     "data": {
      "text/plain": [
       "array(['Semiconductors, Electronics, Electrical Engineering, Technology Hardware & Equipment',\n",
       "       'IT, Internet, Software & Services',\n",
       "       'Transportation and Logistics', 'Retail and Wholesale',\n",
       "       'Aerospace & Defense', 'Automotive (Automotive and Suppliers)',\n",
       "       'Clothing, Shoes, Sports Equipment', 'Healthcare & Social',\n",
       "       'Conglomerate', 'Telecommunications Services, Cable Supplier',\n",
       "       'Drugs & Biotechnology', 'Food, Soft Beverages, Alcohol & Tobacco',\n",
       "       'Engineering, Manufacturing', 'Travel & Leisure      ',\n",
       "       'Banking and Financial Services',\n",
       "       'Construction, Oil & Gas Operations, Mining and Chemicals',\n",
       "       'Packaged Goods', 'Health Care Equipment & Services',\n",
       "       'Media & Advertising', 'Utilities'], dtype=object)"
      ]
     },
     "execution_count": 17,
     "metadata": {},
     "output_type": "execute_result"
    }
   ],
   "source": [
    "df['INDUSTRIES'].unique()"
   ]
  },
  {
   "cell_type": "code",
   "execution_count": 18,
   "id": "39a1add8",
   "metadata": {},
   "outputs": [
    {
     "data": {
      "text/plain": [
       "array(['South Kore', 'United States', 'Germany', 'France', 'Netherlands',\n",
       "       'Italy', 'India', 'Switzerland', 'China', 'Japan', 'Saudi Arabia',\n",
       "       'United Kingdom', 'Canada', 'Sweden', 'South Korea', 'Singapore',\n",
       "       'Austria', 'United Arab Emirates'], dtype=object)"
      ]
     },
     "execution_count": 18,
     "metadata": {},
     "output_type": "execute_result"
    }
   ],
   "source": [
    "df['COUNTRY'].unique()"
   ]
  },
  {
   "cell_type": "code",
   "execution_count": 19,
   "id": "42c446bd",
   "metadata": {},
   "outputs": [
    {
     "data": {
      "text/html": [
       "<div>\n",
       "<style scoped>\n",
       "    .dataframe tbody tr th:only-of-type {\n",
       "        vertical-align: middle;\n",
       "    }\n",
       "\n",
       "    .dataframe tbody tr th {\n",
       "        vertical-align: top;\n",
       "    }\n",
       "\n",
       "    .dataframe thead th {\n",
       "        text-align: right;\n",
       "    }\n",
       "</style>\n",
       "<table border=\"1\" class=\"dataframe\">\n",
       "  <thead>\n",
       "    <tr style=\"text-align: right;\">\n",
       "      <th></th>\n",
       "      <th>RANK</th>\n",
       "      <th>NAME</th>\n",
       "      <th>INDUSTRIES</th>\n",
       "      <th>COUNTRY</th>\n",
       "      <th>EMPLOYEES</th>\n",
       "    </tr>\n",
       "  </thead>\n",
       "  <tbody>\n",
       "    <tr>\n",
       "      <th>0</th>\n",
       "      <td>1.0</td>\n",
       "      <td>Samsung Electronics</td>\n",
       "      <td>Semiconductors, Electronics, Electrical Engine...</td>\n",
       "      <td>South Kore</td>\n",
       "      <td>266673</td>\n",
       "    </tr>\n",
       "    <tr>\n",
       "      <th>1</th>\n",
       "      <td>2.0</td>\n",
       "      <td>Microsoft</td>\n",
       "      <td>IT, Internet, Software &amp; Services</td>\n",
       "      <td>United States</td>\n",
       "      <td>221000</td>\n",
       "    </tr>\n",
       "    <tr>\n",
       "      <th>2</th>\n",
       "      <td>3.0</td>\n",
       "      <td>IBM</td>\n",
       "      <td>Semiconductors, Electronics, Electrical Engine...</td>\n",
       "      <td>United States</td>\n",
       "      <td>250000</td>\n",
       "    </tr>\n",
       "    <tr>\n",
       "      <th>3</th>\n",
       "      <td>4.0</td>\n",
       "      <td>Alphabet</td>\n",
       "      <td>IT, Internet, Software &amp; Services</td>\n",
       "      <td>United States</td>\n",
       "      <td>156500</td>\n",
       "    </tr>\n",
       "    <tr>\n",
       "      <th>4</th>\n",
       "      <td>5.0</td>\n",
       "      <td>Apple</td>\n",
       "      <td>Semiconductors, Electronics, Electrical Engine...</td>\n",
       "      <td>United States</td>\n",
       "      <td>154000</td>\n",
       "    </tr>\n",
       "    <tr>\n",
       "      <th>...</th>\n",
       "      <td>...</td>\n",
       "      <td>...</td>\n",
       "      <td>...</td>\n",
       "      <td>...</td>\n",
       "      <td>...</td>\n",
       "    </tr>\n",
       "    <tr>\n",
       "      <th>95</th>\n",
       "      <td>96.0</td>\n",
       "      <td>Mastercard</td>\n",
       "      <td>Banking and Financial Services</td>\n",
       "      <td>United States</td>\n",
       "      <td>24000</td>\n",
       "    </tr>\n",
       "    <tr>\n",
       "      <th>96</th>\n",
       "      <td>97.0</td>\n",
       "      <td>Electricite de France</td>\n",
       "      <td>Utilities</td>\n",
       "      <td>France</td>\n",
       "      <td>167157</td>\n",
       "    </tr>\n",
       "    <tr>\n",
       "      <th>97</th>\n",
       "      <td>98.0</td>\n",
       "      <td>Verbund</td>\n",
       "      <td>Utilities</td>\n",
       "      <td>Austria</td>\n",
       "      <td>3184</td>\n",
       "    </tr>\n",
       "    <tr>\n",
       "      <th>98</th>\n",
       "      <td>99.0</td>\n",
       "      <td>Panasonic</td>\n",
       "      <td>Engineering, Manufacturing</td>\n",
       "      <td>Japan</td>\n",
       "      <td>240198</td>\n",
       "    </tr>\n",
       "    <tr>\n",
       "      <th>99</th>\n",
       "      <td>100.0</td>\n",
       "      <td>Emirates</td>\n",
       "      <td>Transportation and Logistics</td>\n",
       "      <td>United Arab Emirates</td>\n",
       "      <td>85219</td>\n",
       "    </tr>\n",
       "  </tbody>\n",
       "</table>\n",
       "<p>100 rows × 5 columns</p>\n",
       "</div>"
      ],
      "text/plain": [
       "     RANK                   NAME  \\\n",
       "0     1.0    Samsung Electronics   \n",
       "1     2.0              Microsoft   \n",
       "2     3.0                    IBM   \n",
       "3     4.0               Alphabet   \n",
       "4     5.0                  Apple   \n",
       "..    ...                    ...   \n",
       "95   96.0             Mastercard   \n",
       "96   97.0  Electricite de France   \n",
       "97   98.0                Verbund   \n",
       "98   99.0              Panasonic   \n",
       "99  100.0               Emirates   \n",
       "\n",
       "                                           INDUSTRIES               COUNTRY  \\\n",
       "0   Semiconductors, Electronics, Electrical Engine...            South Kore   \n",
       "1                   IT, Internet, Software & Services         United States   \n",
       "2   Semiconductors, Electronics, Electrical Engine...         United States   \n",
       "3                   IT, Internet, Software & Services         United States   \n",
       "4   Semiconductors, Electronics, Electrical Engine...         United States   \n",
       "..                                                ...                   ...   \n",
       "95                     Banking and Financial Services         United States   \n",
       "96                                          Utilities                France   \n",
       "97                                          Utilities               Austria   \n",
       "98                         Engineering, Manufacturing                 Japan   \n",
       "99                       Transportation and Logistics  United Arab Emirates   \n",
       "\n",
       "    EMPLOYEES  \n",
       "0      266673  \n",
       "1      221000  \n",
       "2      250000  \n",
       "3      156500  \n",
       "4      154000  \n",
       "..        ...  \n",
       "95      24000  \n",
       "96     167157  \n",
       "97       3184  \n",
       "98     240198  \n",
       "99      85219  \n",
       "\n",
       "[100 rows x 5 columns]"
      ]
     },
     "execution_count": 19,
     "metadata": {},
     "output_type": "execute_result"
    }
   ],
   "source": [
    "df"
   ]
  },
  {
   "cell_type": "code",
   "execution_count": 22,
   "id": "36768091",
   "metadata": {},
   "outputs": [
    {
     "data": {
      "text/plain": [
       "(array([0, 1, 2, 3, 4, 5, 6, 7, 8, 9]),\n",
       " [Text(0, 0, 'United States'),\n",
       "  Text(1, 0, 'Germany'),\n",
       "  Text(2, 0, 'China'),\n",
       "  Text(3, 0, 'Japan'),\n",
       "  Text(4, 0, 'France'),\n",
       "  Text(5, 0, 'Netherlands'),\n",
       "  Text(6, 0, 'South Kore'),\n",
       "  Text(7, 0, 'India'),\n",
       "  Text(8, 0, 'Switzerland'),\n",
       "  Text(9, 0, 'Italy')])"
      ]
     },
     "execution_count": 22,
     "metadata": {},
     "output_type": "execute_result"
    },
    {
     "data": {
      "image/png": "[encoded data removed]",
      "text/plain": [
       "<Figure size 1000x600 with 1 Axes>"
      ]
     },
     "metadata": {},
     "output_type": "display_data"
    }
   ],
   "source": [
    "employee_totals = df.groupby('COUNTRY')['EMPLOYEES'].sum()\n",
    "\n",
    "employee_totals = employee_totals.sort_values(ascending=False)\n",
    "\n",
    "plt.figure(figsize=(10,6))\n",
    "\n",
    "top_10_countries = employee_totals[:10]\n",
    "\n",
    "sns.barplot(x=top_10_countries.index, y=top_10_countries.values)\n",
    "\n",
    "plt.xticks(rotation=90)"
   ]
  },
  {
   "cell_type": "code",
   "execution_count": 24,
   "id": "5d8cf404",
   "metadata": {},
   "outputs": [
    {
     "data": {
      "image/png": "[encoded data removed]",
      "text/plain": [
       "<Figure size 1200x600 with 1 Axes>"
      ]
     },
     "metadata": {},
     "output_type": "display_data"
    }
   ],
   "source": [
    "country_counts = df['COUNTRY'].value_counts()\n",
    "\n",
    "top_10_countries = country_counts.head(10)\n",
    "\n",
    "plt.figure(figsize=(12,6))\n",
    "\n",
    "sns.barplot(x=top_10_countries.index, y=top_10_countries.values)\n",
    "\n",
    "plt.xlabel('Country')\n",
    "\n",
    "plt.ylabel('Number of Companies')\n",
    "\n",
    "plt.title('Top 10 Countries with the Most Companies on the World\\'s Best Employers List')\n",
    "\n",
    "plt.xticks(rotation=90)\n",
    "\n",
    "plt.show()"
   ]
  },
  {
   "cell_type": "code",
   "execution_count": 25,
   "id": "32bb1c2e",
   "metadata": {},
   "outputs": [
    {
     "data": {
      "image/png": "[encoded data removed]",
      "text/plain": [
       "<Figure size 1000x600 with 1 Axes>"
      ]
     },
     "metadata": {},
     "output_type": "display_data"
    }
   ],
   "source": [
    "industry_totals = df.groupby('INDUSTRIES')['EMPLOYEES'].sum().sort_values(ascending=False)\n",
    "\n",
    "top_10_industries = industry_totals.head(10)\n",
    "\n",
    "plt.figure(figsize=(10,6))\n",
    "\n",
    "sns.barplot(x=top_10_industries.index, y=top_10_industries.values)\n",
    "\n",
    "plt.xlabel('Industries')\n",
    "plt.ylabel('Total Employees')\n",
    "plt.title('Top 10 Industries by Number of Employees')\n",
    "plt.xticks(rotation=90)\n",
    "plt.show()"
   ]
  },
  {
   "cell_type": "code",
   "execution_count": 28,
   "id": "53c4f724",
   "metadata": {},
   "outputs": [
    {
     "name": "stdout",
     "output_type": "stream",
     "text": [
      "13              Amazon\n",
      "75       Alibaba Group\n",
      "1            Microsoft\n",
      "3             Alphabet\n",
      "65              Oracle\n",
      "76               Intel\n",
      "46    Tencent Holdings\n",
      "7                Adobe\n",
      "39                 UKG\n",
      "26              Intuit\n",
      "Name: NAME, dtype: object\n"
     ]
    }
   ],
   "source": [
    "industry_df = df[df['INDUSTRIES'] == 'IT, Internet, Software & Services']\n",
    "\n",
    "industry_df = industry_df.sort_values(by='EMPLOYEES', ascending=False)\n",
    "\n",
    "top_names = industry_df.head(10)\n",
    "\n",
    "print(top_names['NAME'])"
   ]
  },
  {
   "cell_type": "code",
   "execution_count": null,
   "id": "61a3f517",
   "metadata": {},
   "outputs": [],
   "source": []
  }
 ],
 "metadata": {
  "kernelspec": {
   "display_name": "Python 3 (ipykernel)",
   "language": "python",
   "name": "python3"
  },
  "language_info": {
   "codemirror_mode": {
    "name": "ipython",
    "version": 3
   },
   "file_extension": ".py",
   "mimetype": "text/x-python",
   "name": "python",
   "nbconvert_exporter": "python",
   "pygments_lexer": "ipython3",
   "version": "3.9.13"
  }
 },
 "nbformat": 4,
 "nbformat_minor": 5
}
